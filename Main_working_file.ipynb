{
 "cells": [
  {
   "cell_type": "markdown",
   "metadata": {},
   "source": [
    "##### 1. Data Pre-processing\n"
   ]
  },
  {
   "cell_type": "code",
   "execution_count": 45,
   "metadata": {},
   "outputs": [],
   "source": [
    "#importing libraries\n",
    "import pandas as pd\n",
    "import altair as alt\n"
   ]
  },
  {
   "cell_type": "code",
   "execution_count": 46,
   "metadata": {},
   "outputs": [
    {
     "data": {
      "text/html": [
       "<div>\n",
       "<style scoped>\n",
       "    .dataframe tbody tr th:only-of-type {\n",
       "        vertical-align: middle;\n",
       "    }\n",
       "\n",
       "    .dataframe tbody tr th {\n",
       "        vertical-align: top;\n",
       "    }\n",
       "\n",
       "    .dataframe thead th {\n",
       "        text-align: right;\n",
       "    }\n",
       "</style>\n",
       "<table border=\"1\" class=\"dataframe\">\n",
       "  <thead>\n",
       "    <tr style=\"text-align: right;\">\n",
       "      <th></th>\n",
       "      <th>id</th>\n",
       "      <th>value</th>\n",
       "      <th>location</th>\n",
       "      <th>sample date</th>\n",
       "      <th>measure</th>\n",
       "    </tr>\n",
       "  </thead>\n",
       "  <tbody>\n",
       "    <tr>\n",
       "      <th>0</th>\n",
       "      <td>2221</td>\n",
       "      <td>2.00</td>\n",
       "      <td>Boonsri</td>\n",
       "      <td>11-Jan-98</td>\n",
       "      <td>Water temperature</td>\n",
       "    </tr>\n",
       "    <tr>\n",
       "      <th>1</th>\n",
       "      <td>2223</td>\n",
       "      <td>9.10</td>\n",
       "      <td>Boonsri</td>\n",
       "      <td>11-Jan-98</td>\n",
       "      <td>Dissolved oxygen</td>\n",
       "    </tr>\n",
       "    <tr>\n",
       "      <th>2</th>\n",
       "      <td>2227</td>\n",
       "      <td>0.33</td>\n",
       "      <td>Boonsri</td>\n",
       "      <td>11-Jan-98</td>\n",
       "      <td>Ammonium</td>\n",
       "    </tr>\n",
       "    <tr>\n",
       "      <th>3</th>\n",
       "      <td>2228</td>\n",
       "      <td>0.01</td>\n",
       "      <td>Boonsri</td>\n",
       "      <td>11-Jan-98</td>\n",
       "      <td>Nitrites</td>\n",
       "    </tr>\n",
       "    <tr>\n",
       "      <th>4</th>\n",
       "      <td>2229</td>\n",
       "      <td>1.47</td>\n",
       "      <td>Boonsri</td>\n",
       "      <td>11-Jan-98</td>\n",
       "      <td>Nitrates</td>\n",
       "    </tr>\n",
       "  </tbody>\n",
       "</table>\n",
       "</div>"
      ],
      "text/plain": [
       "     id  value location sample date            measure\n",
       "0  2221   2.00  Boonsri   11-Jan-98  Water temperature\n",
       "1  2223   9.10  Boonsri   11-Jan-98   Dissolved oxygen\n",
       "2  2227   0.33  Boonsri   11-Jan-98           Ammonium\n",
       "3  2228   0.01  Boonsri   11-Jan-98           Nitrites\n",
       "4  2229   1.47  Boonsri   11-Jan-98           Nitrates"
      ]
     },
     "execution_count": 46,
     "metadata": {},
     "output_type": "execute_result"
    }
   ],
   "source": [
    "df = pd.read_csv(\"./Boonsong Lekagul waterways readings.csv\")\n",
    "df.head()"
   ]
  },
  {
   "cell_type": "code",
   "execution_count": 50,
   "metadata": {},
   "outputs": [
    {
     "ename": "ValueError",
     "evalue": "When the \"vegafusion\" data transformer is enabled, the \nto_dict() and to_json() chart methods must be called with format=\"vega\". \nFor example: \n    >>> chart.to_dict(format=\"vega\")\n    >>> chart.to_json(format=\"vega\")",
     "output_type": "error",
     "traceback": [
      "\u001b[1;31m---------------------------------------------------------------------------\u001b[0m",
      "\u001b[1;31mValueError\u001b[0m                                Traceback (most recent call last)",
      "Cell \u001b[1;32mIn[50], line 10\u001b[0m\n\u001b[0;32m      1\u001b[0m boxplot \u001b[38;5;241m=\u001b[39m alt\u001b[38;5;241m.\u001b[39mChart(df)\u001b[38;5;241m.\u001b[39mmark_boxplot()\u001b[38;5;241m.\u001b[39mencode(\n\u001b[0;32m      2\u001b[0m     alt\u001b[38;5;241m.\u001b[39mX(\u001b[38;5;124m'\u001b[39m\u001b[38;5;124mmeasure:Q\u001b[39m\u001b[38;5;124m'\u001b[39m, title\u001b[38;5;241m=\u001b[39m\u001b[38;5;124m'\u001b[39m\u001b[38;5;124mVariable\u001b[39m\u001b[38;5;124m'\u001b[39m),\n\u001b[0;32m      3\u001b[0m     alt\u001b[38;5;241m.\u001b[39mY(\u001b[38;5;124m'\u001b[39m\u001b[38;5;124mvalue:Q\u001b[39m\u001b[38;5;124m'\u001b[39m, title\u001b[38;5;241m=\u001b[39m\u001b[38;5;124m'\u001b[39m\u001b[38;5;124mValues\u001b[39m\u001b[38;5;124m'\u001b[39m)\n\u001b[1;32m   (...)\u001b[0m\n\u001b[0;32m      6\u001b[0m     width\u001b[38;5;241m=\u001b[39m\u001b[38;5;241m200\u001b[39m\n\u001b[0;32m      7\u001b[0m )\n\u001b[0;32m      9\u001b[0m \u001b[38;5;66;03m# Show the boxplot\u001b[39;00m\n\u001b[1;32m---> 10\u001b[0m \u001b[43mboxplot\u001b[49m\u001b[38;5;241;43m.\u001b[39;49m\u001b[43mshow\u001b[49m\u001b[43m(\u001b[49m\u001b[43m)\u001b[49m\n",
      "File \u001b[1;32mc:\\Users\\osama\\anaconda3\\lib\\site-packages\\altair\\vegalite\\v5\\api.py:2691\u001b[0m, in \u001b[0;36mTopLevelMixin.show\u001b[1;34m(self, embed_opt, open_browser)\u001b[0m\n\u001b[0;32m   2686\u001b[0m \u001b[38;5;28;01mexcept\u001b[39;00m \u001b[38;5;167;01mImportError\u001b[39;00m \u001b[38;5;28;01mas\u001b[39;00m err:\n\u001b[0;32m   2687\u001b[0m     \u001b[38;5;28;01mraise\u001b[39;00m \u001b[38;5;167;01mValueError\u001b[39;00m(\n\u001b[0;32m   2688\u001b[0m         \u001b[38;5;124m\"\u001b[39m\u001b[38;5;124m'\u001b[39m\u001b[38;5;124mshow\u001b[39m\u001b[38;5;124m'\u001b[39m\u001b[38;5;124m method requires the altair_viewer package. \u001b[39m\u001b[38;5;124m\"\u001b[39m\n\u001b[0;32m   2689\u001b[0m         \u001b[38;5;124m\"\u001b[39m\u001b[38;5;124mSee http://github.com/altair-viz/altair_viewer\u001b[39m\u001b[38;5;124m\"\u001b[39m\n\u001b[0;32m   2690\u001b[0m     ) \u001b[38;5;28;01mfrom\u001b[39;00m \u001b[38;5;21;01merr\u001b[39;00m\n\u001b[1;32m-> 2691\u001b[0m \u001b[43maltair_viewer\u001b[49m\u001b[38;5;241;43m.\u001b[39;49m\u001b[43mshow\u001b[49m\u001b[43m(\u001b[49m\u001b[38;5;28;43mself\u001b[39;49m\u001b[43m,\u001b[49m\u001b[43m \u001b[49m\u001b[43membed_opt\u001b[49m\u001b[38;5;241;43m=\u001b[39;49m\u001b[43membed_opt\u001b[49m\u001b[43m,\u001b[49m\u001b[43m \u001b[49m\u001b[43mopen_browser\u001b[49m\u001b[38;5;241;43m=\u001b[39;49m\u001b[43mopen_browser\u001b[49m\u001b[43m)\u001b[49m\n",
      "File \u001b[1;32mc:\\Users\\osama\\anaconda3\\lib\\site-packages\\altair_viewer\\_viewer.py:355\u001b[0m, in \u001b[0;36mChartViewer.show\u001b[1;34m(self, chart, embed_opt, open_browser)\u001b[0m\n\u001b[0;32m    328\u001b[0m \u001b[38;5;28;01mdef\u001b[39;00m \u001b[38;5;21mshow\u001b[39m(\n\u001b[0;32m    329\u001b[0m     \u001b[38;5;28mself\u001b[39m,\n\u001b[0;32m    330\u001b[0m     chart: Union[\u001b[38;5;28mdict\u001b[39m, alt\u001b[38;5;241m.\u001b[39mTopLevelMixin],\n\u001b[0;32m    331\u001b[0m     embed_opt: Optional[\u001b[38;5;28mdict\u001b[39m] \u001b[38;5;241m=\u001b[39m \u001b[38;5;28;01mNone\u001b[39;00m,\n\u001b[0;32m    332\u001b[0m     open_browser: Optional[\u001b[38;5;28mbool\u001b[39m] \u001b[38;5;241m=\u001b[39m \u001b[38;5;28;01mNone\u001b[39;00m,\n\u001b[0;32m    333\u001b[0m ) \u001b[38;5;241m-\u001b[39m\u001b[38;5;241m>\u001b[39m \u001b[38;5;28;01mNone\u001b[39;00m:\n\u001b[0;32m    334\u001b[0m     \u001b[38;5;124;03m\"\"\"Show chart and prompt to pause execution.\u001b[39;00m\n\u001b[0;32m    335\u001b[0m \n\u001b[0;32m    336\u001b[0m \u001b[38;5;124;03m    Use this to show a chart within a stand-alone script, to prevent the Python process\u001b[39;00m\n\u001b[1;32m   (...)\u001b[0m\n\u001b[0;32m    353\u001b[0m \u001b[38;5;124;03m    render : Jupyter renderer for chart.\u001b[39;00m\n\u001b[0;32m    354\u001b[0m \u001b[38;5;124;03m    \"\"\"\u001b[39;00m\n\u001b[1;32m--> 355\u001b[0m     msg \u001b[38;5;241m=\u001b[39m \u001b[38;5;28;43mself\u001b[39;49m\u001b[38;5;241;43m.\u001b[39;49m\u001b[43mdisplay\u001b[49m\u001b[43m(\u001b[49m\u001b[43mchart\u001b[49m\u001b[43m,\u001b[49m\u001b[43m \u001b[49m\u001b[43membed_opt\u001b[49m\u001b[38;5;241;43m=\u001b[39;49m\u001b[43membed_opt\u001b[49m\u001b[43m,\u001b[49m\u001b[43m \u001b[49m\u001b[43mopen_browser\u001b[49m\u001b[38;5;241;43m=\u001b[39;49m\u001b[43mopen_browser\u001b[49m\u001b[43m)\u001b[49m\n\u001b[0;32m    356\u001b[0m     \u001b[38;5;28mprint\u001b[39m(msg)\n\u001b[0;32m    357\u001b[0m     \u001b[38;5;28;01mif\u001b[39;00m \u001b[38;5;28mself\u001b[39m\u001b[38;5;241m.\u001b[39m_provider \u001b[38;5;129;01mis\u001b[39;00m \u001b[38;5;129;01mnot\u001b[39;00m \u001b[38;5;28;01mNone\u001b[39;00m:\n",
      "File \u001b[1;32mc:\\Users\\osama\\anaconda3\\lib\\site-packages\\altair_viewer\\_viewer.py:264\u001b[0m, in \u001b[0;36mChartViewer.display\u001b[1;34m(self, chart, inline, embed_opt, open_browser)\u001b[0m\n\u001b[0;32m    242\u001b[0m \u001b[38;5;124;03m\"\"\"Display an Altair, Vega-Lite, or Vega chart.\u001b[39;00m\n\u001b[0;32m    243\u001b[0m \n\u001b[0;32m    244\u001b[0m \u001b[38;5;124;03mParameters\u001b[39;00m\n\u001b[1;32m   (...)\u001b[0m\n\u001b[0;32m    261\u001b[0m \u001b[38;5;124;03mshow : display a chart and start event loop.\u001b[39;00m\n\u001b[0;32m    262\u001b[0m \u001b[38;5;124;03m\"\"\"\u001b[39;00m\n\u001b[0;32m    263\u001b[0m \u001b[38;5;28;01mif\u001b[39;00m \u001b[38;5;28misinstance\u001b[39m(chart, alt\u001b[38;5;241m.\u001b[39mTopLevelMixin):\n\u001b[1;32m--> 264\u001b[0m     chart \u001b[38;5;241m=\u001b[39m \u001b[43mchart\u001b[49m\u001b[38;5;241;43m.\u001b[39;49m\u001b[43mto_dict\u001b[49m\u001b[43m(\u001b[49m\u001b[43m)\u001b[49m\n\u001b[0;32m    265\u001b[0m \u001b[38;5;28;01massert\u001b[39;00m \u001b[38;5;28misinstance\u001b[39m(chart, \u001b[38;5;28mdict\u001b[39m)\n\u001b[0;32m    266\u001b[0m \u001b[38;5;28mself\u001b[39m\u001b[38;5;241m.\u001b[39m_initialize()\n",
      "File \u001b[1;32mc:\\Users\\osama\\anaconda3\\lib\\site-packages\\altair\\vegalite\\v5\\api.py:2975\u001b[0m, in \u001b[0;36mChart.to_dict\u001b[1;34m(self, validate, format, ignore, context)\u001b[0m\n\u001b[0;32m   2971\u001b[0m     copy\u001b[38;5;241m.\u001b[39mdata \u001b[38;5;241m=\u001b[39m core\u001b[38;5;241m.\u001b[39mInlineData(values\u001b[38;5;241m=\u001b[39m[{}])  \u001b[38;5;66;03m# type: ignore[assignment]\u001b[39;00m\n\u001b[0;32m   2972\u001b[0m     \u001b[38;5;28;01mreturn\u001b[39;00m \u001b[38;5;28msuper\u001b[39m(Chart, copy)\u001b[38;5;241m.\u001b[39mto_dict(\n\u001b[0;32m   2973\u001b[0m         validate\u001b[38;5;241m=\u001b[39mvalidate, \u001b[38;5;28mformat\u001b[39m\u001b[38;5;241m=\u001b[39m\u001b[38;5;28mformat\u001b[39m, ignore\u001b[38;5;241m=\u001b[39mignore, context\u001b[38;5;241m=\u001b[39mcontext\n\u001b[0;32m   2974\u001b[0m     )\n\u001b[1;32m-> 2975\u001b[0m \u001b[38;5;28;01mreturn\u001b[39;00m \u001b[38;5;28;43msuper\u001b[39;49m\u001b[43m(\u001b[49m\u001b[43m)\u001b[49m\u001b[38;5;241;43m.\u001b[39;49m\u001b[43mto_dict\u001b[49m\u001b[43m(\u001b[49m\n\u001b[0;32m   2976\u001b[0m \u001b[43m    \u001b[49m\u001b[43mvalidate\u001b[49m\u001b[38;5;241;43m=\u001b[39;49m\u001b[43mvalidate\u001b[49m\u001b[43m,\u001b[49m\u001b[43m \u001b[49m\u001b[38;5;28;43mformat\u001b[39;49m\u001b[38;5;241;43m=\u001b[39;49m\u001b[38;5;28;43mformat\u001b[39;49m\u001b[43m,\u001b[49m\u001b[43m \u001b[49m\u001b[43mignore\u001b[49m\u001b[38;5;241;43m=\u001b[39;49m\u001b[43mignore\u001b[49m\u001b[43m,\u001b[49m\u001b[43m \u001b[49m\u001b[43mcontext\u001b[49m\u001b[38;5;241;43m=\u001b[39;49m\u001b[43mcontext\u001b[49m\n\u001b[0;32m   2977\u001b[0m \u001b[43m\u001b[49m\u001b[43m)\u001b[49m\n",
      "File \u001b[1;32mc:\\Users\\osama\\anaconda3\\lib\\site-packages\\altair\\vegalite\\v5\\api.py:984\u001b[0m, in \u001b[0;36mTopLevelMixin.to_dict\u001b[1;34m(self, validate, format, ignore, context)\u001b[0m\n\u001b[0;32m    982\u001b[0m \u001b[38;5;28;01mif\u001b[39;00m context\u001b[38;5;241m.\u001b[39mget(\u001b[38;5;124m\"\u001b[39m\u001b[38;5;124mpre_transform\u001b[39m\u001b[38;5;124m\"\u001b[39m, \u001b[38;5;28;01mTrue\u001b[39;00m) \u001b[38;5;129;01mand\u001b[39;00m _using_vegafusion():\n\u001b[0;32m    983\u001b[0m     \u001b[38;5;28;01mif\u001b[39;00m \u001b[38;5;28mformat\u001b[39m \u001b[38;5;241m==\u001b[39m \u001b[38;5;124m\"\u001b[39m\u001b[38;5;124mvega-lite\u001b[39m\u001b[38;5;124m\"\u001b[39m:\n\u001b[1;32m--> 984\u001b[0m         \u001b[38;5;28;01mraise\u001b[39;00m \u001b[38;5;167;01mValueError\u001b[39;00m(\n\u001b[0;32m    985\u001b[0m             \u001b[38;5;124m'\u001b[39m\u001b[38;5;124mWhen the \u001b[39m\u001b[38;5;124m\"\u001b[39m\u001b[38;5;124mvegafusion\u001b[39m\u001b[38;5;124m\"\u001b[39m\u001b[38;5;124m data transformer is enabled, the \u001b[39m\u001b[38;5;130;01m\\n\u001b[39;00m\u001b[38;5;124m'\u001b[39m\n\u001b[0;32m    986\u001b[0m             \u001b[38;5;124m\"\u001b[39m\u001b[38;5;124mto_dict() and to_json() chart methods must be called with \u001b[39m\u001b[38;5;124m\"\u001b[39m\n\u001b[0;32m    987\u001b[0m             \u001b[38;5;124m'\u001b[39m\u001b[38;5;124mformat=\u001b[39m\u001b[38;5;124m\"\u001b[39m\u001b[38;5;124mvega\u001b[39m\u001b[38;5;124m\"\u001b[39m\u001b[38;5;124m. \u001b[39m\u001b[38;5;130;01m\\n\u001b[39;00m\u001b[38;5;124m'\u001b[39m\n\u001b[0;32m    988\u001b[0m             \u001b[38;5;124m\"\u001b[39m\u001b[38;5;124mFor example: \u001b[39m\u001b[38;5;130;01m\\n\u001b[39;00m\u001b[38;5;124m\"\u001b[39m\n\u001b[0;32m    989\u001b[0m             \u001b[38;5;124m'\u001b[39m\u001b[38;5;124m    >>> chart.to_dict(format=\u001b[39m\u001b[38;5;124m\"\u001b[39m\u001b[38;5;124mvega\u001b[39m\u001b[38;5;124m\"\u001b[39m\u001b[38;5;124m)\u001b[39m\u001b[38;5;130;01m\\n\u001b[39;00m\u001b[38;5;124m'\u001b[39m\n\u001b[0;32m    990\u001b[0m             \u001b[38;5;124m'\u001b[39m\u001b[38;5;124m    >>> chart.to_json(format=\u001b[39m\u001b[38;5;124m\"\u001b[39m\u001b[38;5;124mvega\u001b[39m\u001b[38;5;124m\"\u001b[39m\u001b[38;5;124m)\u001b[39m\u001b[38;5;124m'\u001b[39m\n\u001b[0;32m    991\u001b[0m         )\n\u001b[0;32m    992\u001b[0m     \u001b[38;5;28;01melse\u001b[39;00m:\n\u001b[0;32m    993\u001b[0m         \u001b[38;5;28;01mreturn\u001b[39;00m _compile_with_vegafusion(vegalite_spec)\n",
      "\u001b[1;31mValueError\u001b[0m: When the \"vegafusion\" data transformer is enabled, the \nto_dict() and to_json() chart methods must be called with format=\"vega\". \nFor example: \n    >>> chart.to_dict(format=\"vega\")\n    >>> chart.to_json(format=\"vega\")"
     ]
    }
   ],
   "source": [
    "boxplot = alt.Chart(df).mark_boxplot().encode(\n",
    "    alt.X('measure:Q', title='Variable'),\n",
    "    alt.Y('value:Q', title='Values')\n",
    ").properties(\n",
    "    title='Boxplot of a Variable',\n",
    "    width=200\n",
    ")\n",
    "\n",
    "# Show the boxplot\n",
    "boxplot.show()"
   ]
  }
 ],
 "metadata": {
  "kernelspec": {
   "display_name": "base",
   "language": "python",
   "name": "python3"
  },
  "language_info": {
   "codemirror_mode": {
    "name": "ipython",
    "version": 3
   },
   "file_extension": ".py",
   "mimetype": "text/x-python",
   "name": "python",
   "nbconvert_exporter": "python",
   "pygments_lexer": "ipython3",
   "version": "3.10.9"
  }
 },
 "nbformat": 4,
 "nbformat_minor": 2
}
